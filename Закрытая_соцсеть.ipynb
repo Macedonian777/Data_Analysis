{
 "cells": [
  {
   "attachments": {},
   "cell_type": "markdown",
   "id": "45aa810a",
   "metadata": {},
   "source": [
    "1. Создаю структуру данных, описывающую закрытую социальную сеть (11 пользователей). \n",
    "Использую списки и словари для установления взаимосвязей пользователей. \n",
    "2. Создаю функцию, определяющую количество друзей у выбранного пользователя.\n",
    "3. Создаю функцию, выводящую на экран пользователей, отсортированных по количеству друзей."
   ]
  },
  {
   "cell_type": "markdown",
   "id": "299d0556",
   "metadata": {},
   "source": [
    "### Частная социальная сеть"
   ]
  },
  {
   "cell_type": "markdown",
   "id": "e9c87951",
   "metadata": {},
   "source": [
    "<img src=\"Friendship Map.jpg\">"
   ]
  },
  {
   "cell_type": "code",
   "execution_count": 19,
   "id": "b7a17e71",
   "metadata": {},
   "outputs": [
    {
     "data": {
      "text/plain": [
       "list"
      ]
     },
     "execution_count": 19,
     "metadata": {},
     "output_type": "execute_result"
    }
   ],
   "source": [
    "users = [\n",
    "{'id': 0, 'name': 'Давид'},\n",
    "{'id': 1, 'name' : 'Тихон'},\n",
    "{'id': 2, 'name': 'Макс'},\n",
    "{'id': 3, 'name': 'Саша'},\n",
    "{'id': 4, 'name': 'Миша'},\n",
    "{'id': 5, 'name': 'Лиза'},\n",
    "{'id': 6, 'name': 'Лука'},\n",
    "{'id': 7, 'name': 'Алиса'},\n",
    "{'id': 8, 'name': 'Соня'},\n",
    "{'id': 9, 'name': 'Аня'},\n",
    "{'id': 10, 'name': 'Захар'}\n",
    "]\n",
    "type(users)"
   ]
  },
  {
   "cell_type": "code",
   "execution_count": 20,
   "id": "514ecded",
   "metadata": {},
   "outputs": [
    {
     "data": {
      "text/plain": [
       "(list,\n",
       " [(0, 1),\n",
       "  (0, 3),\n",
       "  (0, 4),\n",
       "  (0, 6),\n",
       "  (0, 7),\n",
       "  (0, 9),\n",
       "  (1, 6),\n",
       "  (1, 7),\n",
       "  (1, 8),\n",
       "  (2, 6),\n",
       "  (2, 10),\n",
       "  (3, 4),\n",
       "  (3, 9),\n",
       "  (5, 7),\n",
       "  (5, 8),\n",
       "  (7, 8)])"
      ]
     },
     "execution_count": 20,
     "metadata": {},
     "output_type": "execute_result"
    }
   ],
   "source": [
    "fp = [ (0, 1), (0, 3), (0, 4), (0, 6), (0, 7), (0, 9), (1, 6), (1, 7), (1, 8), (2, 6), (2, 10),\n",
    "      (3, 4), (3, 9), (5, 7), (5, 8), (7, 8)]\n",
    "type(fp), fp"
   ]
  },
  {
   "cell_type": "code",
   "execution_count": 21,
   "id": "45310826",
   "metadata": {
    "scrolled": true
   },
   "outputs": [
    {
     "data": {
      "text/plain": [
       "(dict,\n",
       " {0: [],\n",
       "  1: [],\n",
       "  2: [],\n",
       "  3: [],\n",
       "  4: [],\n",
       "  5: [],\n",
       "  6: [],\n",
       "  7: [],\n",
       "  8: [],\n",
       "  9: [],\n",
       "  10: []})"
      ]
     },
     "execution_count": 21,
     "metadata": {},
     "output_type": "execute_result"
    }
   ],
   "source": [
    "# Инициализирую словарь пустым списком для идентификатора каждого пользователя.\n",
    "\n",
    "friendships = {user[\"id\"]: [] for user in users}\n",
    "type(friendships), friendships"
   ]
  },
  {
   "cell_type": "code",
   "execution_count": 22,
   "id": "aa8f24a9",
   "metadata": {},
   "outputs": [],
   "source": [
    "for i, j in fp:\n",
    "    friendships[i].append(j) # Добавим j как друга для i\n",
    "    friendships[j].append(i) # Добавим i как друга для j"
   ]
  },
  {
   "cell_type": "code",
   "execution_count": 23,
   "id": "ad1fa103",
   "metadata": {
    "scrolled": true
   },
   "outputs": [
    {
     "data": {
      "text/plain": [
       "{0: [1, 3, 4, 6, 7, 9],\n",
       " 1: [0, 6, 7, 8],\n",
       " 2: [6, 10],\n",
       " 3: [0, 4, 9],\n",
       " 4: [0, 3],\n",
       " 5: [7, 8],\n",
       " 6: [0, 1, 2],\n",
       " 7: [0, 1, 5, 8],\n",
       " 8: [1, 5, 7],\n",
       " 9: [0, 3],\n",
       " 10: [2]}"
      ]
     },
     "execution_count": 23,
     "metadata": {},
     "output_type": "execute_result"
    }
   ],
   "source": [
    "friendships"
   ]
  },
  {
   "attachments": {},
   "cell_type": "markdown",
   "id": "46050f94",
   "metadata": {},
   "source": [
    "Пишу функцию, которая определяет сколько друзей есть у пользователя user<br>\n",
    "def number_of_friends(u):<br>\n",
    " * в локальную переменную user_id присваиваю значение по ключу id из словаря u - {'id': 0, 'name': 'Алексей'}<br>\n",
    " * в локальную переменную friend_ids присваиваю значение по ключу из словаря friendships - 3: [1, 4] \n",
    " * у функции возвращю количество элементов списка friend_ids"
   ]
  },
  {
   "cell_type": "code",
   "execution_count": 24,
   "id": "c3c9caaa",
   "metadata": {},
   "outputs": [],
   "source": [
    "def number_of_friends(u):\n",
    "   user_id = u['id']\n",
    "   friend_ids = friendships[user_id]\n",
    "   return len(friend_ids)"
   ]
  },
  {
   "cell_type": "code",
   "execution_count": 25,
   "id": "7fe49e2b",
   "metadata": {},
   "outputs": [
    {
     "data": {
      "text/plain": [
       "{'id': 0, 'name': 'Давид'}"
      ]
     },
     "execution_count": 25,
     "metadata": {},
     "output_type": "execute_result"
    }
   ],
   "source": [
    "users[0]"
   ]
  },
  {
   "cell_type": "code",
   "execution_count": 26,
   "id": "3443e71f",
   "metadata": {},
   "outputs": [
    {
     "data": {
      "text/plain": [
       "6"
      ]
     },
     "execution_count": 26,
     "metadata": {},
     "output_type": "execute_result"
    }
   ],
   "source": [
    "number_of_friends(users[0]) #вывожу количество друзей у пользователя Давида"
   ]
  },
  {
   "attachments": {},
   "cell_type": "markdown",
   "id": "5e2a76ac",
   "metadata": {},
   "source": [
    "Создаю список num_friends_by_name, который содержит имя пользователя user[\"name\"] и число его друзей number_of_friends(user)"
   ]
  },
  {
   "cell_type": "code",
   "execution_count": 27,
   "id": "6a5bdc7a",
   "metadata": {},
   "outputs": [],
   "source": [
    "num_friends_by_name = list((user['name'], number_of_friends(user)) for user in users)"
   ]
  },
  {
   "cell_type": "code",
   "execution_count": 28,
   "id": "eb5bf6f6",
   "metadata": {},
   "outputs": [
    {
     "data": {
      "text/plain": [
       "(list,\n",
       " [('Давид', 6),\n",
       "  ('Тихон', 4),\n",
       "  ('Макс', 2),\n",
       "  ('Саша', 3),\n",
       "  ('Миша', 2),\n",
       "  ('Лиза', 2),\n",
       "  ('Лука', 3),\n",
       "  ('Алиса', 4),\n",
       "  ('Соня', 3),\n",
       "  ('Аня', 2),\n",
       "  ('Захар', 1)])"
      ]
     },
     "execution_count": 28,
     "metadata": {},
     "output_type": "execute_result"
    }
   ],
   "source": [
    "type(num_friends_by_name), num_friends_by_name"
   ]
  },
  {
   "attachments": {},
   "cell_type": "markdown",
   "id": "50b086bb",
   "metadata": {},
   "source": [
    "Отсортирую список по числу друзей"
   ]
  },
  {
   "cell_type": "code",
   "execution_count": 29,
   "id": "27f59286",
   "metadata": {},
   "outputs": [],
   "source": [
    "num_friends_by_name.sort(key = lambda num_friends_by_name: num_friends_by_name[1])\n",
    "# Каждая пара представлена кортежем (name, num_friends), т. е. именем пользователя и числом друзей"
   ]
  },
  {
   "cell_type": "code",
   "execution_count": 30,
   "id": "bb4da4b4",
   "metadata": {},
   "outputs": [
    {
     "name": "stdout",
     "output_type": "stream",
     "text": [
      "[('Захар', 1), ('Макс', 2), ('Миша', 2), ('Лиза', 2), ('Аня', 2), ('Саша', 3), ('Лука', 3), ('Соня', 3), ('Тихон', 4), ('Алиса', 4), ('Давид', 6)]\n"
     ]
    }
   ],
   "source": [
    "print(num_friends_by_name)"
   ]
  }
 ],
 "metadata": {
  "kernelspec": {
   "display_name": "Python 3",
   "language": "python",
   "name": "python3"
  },
  "language_info": {
   "codemirror_mode": {
    "name": "ipython",
    "version": 3
   },
   "file_extension": ".py",
   "mimetype": "text/x-python",
   "name": "python",
   "nbconvert_exporter": "python",
   "pygments_lexer": "ipython3",
   "version": "3.10.8"
  },
  "vscode": {
   "interpreter": {
    "hash": "d0d8f4ad52842acb1bd88b5e4d5a3e855ffe6009d6de89734aac6954d5696bda"
   }
  }
 },
 "nbformat": 4,
 "nbformat_minor": 5
}
